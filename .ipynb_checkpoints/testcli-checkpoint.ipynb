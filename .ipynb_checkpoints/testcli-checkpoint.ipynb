{
 "cells": [
  {
   "cell_type": "code",
   "execution_count": null,
   "metadata": {},
   "outputs": [],
   "source": [
    "import json, re\n",
    "import requests\n",
    "from datetime import datetime\n",
    "\n",
    "BASE_URL = 'http://localhost:8080/sar'\n",
    "test = [\n",
    "    \n",
    "]\n",
    "\n",
    "class SarTestClient:\n",
    "    \"\"\"\n",
    "      The class created for testing of the SAR server\n",
    "    \"\"\"\n",
    "    \n",
    "    def __init__(self,url,tests):\n",
    "        \n",
    "        \"\"\"\n",
    "            Initialization\n",
    "            param url : Base URL\n",
    "            param test: List of test cases\n",
    "        \"\"\"\n",
    "        \n",
    "        self.baseurl = url\n",
    "        self.tests = tests\n",
    "        self.date_str = datetime.now().strftime('%Y-%m-%d')\n",
    "        \n",
    "        self.reo_1 = re.compile(r'{[^{]+}')\n",
    "        self.reo_2 = re.compile(r'<([^<]+)>')\n",
    "        self.reo_3 = re.compile(r'.id')\n",
    "        \n",
    "        self.post_cases=[\n",
    "            ()\n",
    "        ]"
   ]
  }
 ],
 "metadata": {
  "kernelspec": {
   "display_name": "Python 3",
   "language": "python",
   "name": "python3"
  },
  "language_info": {
   "codemirror_mode": {
    "name": "ipython",
    "version": 3
   },
   "file_extension": ".py",
   "mimetype": "text/x-python",
   "name": "python",
   "nbconvert_exporter": "python",
   "pygments_lexer": "ipython3",
   "version": "3.7.4"
  }
 },
 "nbformat": 4,
 "nbformat_minor": 2
}
